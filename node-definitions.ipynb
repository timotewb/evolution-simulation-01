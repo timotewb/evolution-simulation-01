{
 "cells": [
  {
   "cell_type": "code",
   "execution_count": 1,
   "id": "c2cc6702",
   "metadata": {},
   "outputs": [],
   "source": [
    "import numpy as np"
   ]
  },
  {
   "cell_type": "markdown",
   "id": "57bbd831",
   "metadata": {},
   "source": [
    "<h4>Sensory Input Nodes</h4>"
   ]
  },
  {
   "cell_type": "code",
   "execution_count": 2,
   "id": "fa402a3a",
   "metadata": {},
   "outputs": [],
   "source": [
    "def sense_north(position, size):\n",
    "    \n",
    "    \"\"\"\n",
    "    sense distance from north boarder\n",
    "    \n",
    "    position: tuple, (x,y,)\n",
    "    size: int, length of 1 side of square grid\n",
    "    \n",
    "    return value ebtween 0 and 1\n",
    "    \"\"\"\n",
    "    \n",
    "    return (position[0]-1)/size"
   ]
  },
  {
   "cell_type": "code",
   "execution_count": 3,
   "id": "95600f90",
   "metadata": {},
   "outputs": [],
   "source": [
    "def sense_south(position, size):\n",
    "    \n",
    "    \"\"\"\n",
    "    sense distance from south boarder\n",
    "    \n",
    "    position: tuple, (x,y,)\n",
    "    size: int, length of 1 side of square grid\n",
    "    \n",
    "    return value ebtween 0 and 1\n",
    "    \"\"\"\n",
    "    \n",
    "    return 1-(position[0])/size"
   ]
  },
  {
   "cell_type": "code",
   "execution_count": 4,
   "id": "24262e52",
   "metadata": {},
   "outputs": [],
   "source": [
    "def sense_east(position, size):\n",
    "    \n",
    "    \"\"\"\n",
    "    sense distance from east boarder\n",
    "    \n",
    "    position: tuple, (x,y,)\n",
    "    size: int, length of 1 side of square grid\n",
    "    \n",
    "    return value ebtween 0 and 1\n",
    "    \"\"\"\n",
    "    \n",
    "    return (position[1]-1)/size"
   ]
  },
  {
   "cell_type": "code",
   "execution_count": 5,
   "id": "21ad7a6e",
   "metadata": {},
   "outputs": [],
   "source": [
    "def sense_west(position, size):\n",
    "    \n",
    "    \"\"\"\n",
    "    sense distance from west boarder\n",
    "    \n",
    "    position: tuple, (x,y,)\n",
    "    size: int, length of 1 side of square grid\n",
    "    \n",
    "    return value ebtween 0 and 1\n",
    "    \"\"\"\n",
    "    \n",
    "    return 1-(position[1]/size)"
   ]
  },
  {
   "cell_type": "code",
   "execution_count": 7,
   "id": "e7a6f7f2",
   "metadata": {},
   "outputs": [],
   "source": [
    "# Testing\n",
    "# print(f\"{sense_north((5,5,),10)}\")\n",
    "# print(f\"{sense_south((5,5,),10)}\")\n",
    "# print(f\"{sense_east((5,5,),10)}\")\n",
    "# print(f\"{sense_west((5,5,),10)}\")"
   ]
  },
  {
   "cell_type": "markdown",
   "id": "3f73ff46",
   "metadata": {},
   "source": [
    "<h4>Internal Nodes</h4>"
   ]
  },
  {
   "cell_type": "code",
   "execution_count": 16,
   "id": "dbc676e2",
   "metadata": {},
   "outputs": [],
   "source": [
    "def internal(inputs):\n",
    "    \n",
    "    \"\"\"\n",
    "    take inputs and create output between -1 and 1\n",
    "    \n",
    "    inputs: list, list of inputs from sense or internal nodes\n",
    "    \n",
    "    return value bwtween -1 and 1\n",
    "    \"\"\"\n",
    "    return math.tanh(sum(inputs))    "
   ]
  },
  {
   "cell_type": "code",
   "execution_count": 17,
   "id": "38e7c544",
   "metadata": {},
   "outputs": [
    {
     "name": "stdout",
     "output_type": "stream",
     "text": [
      "0.9999999999999996\n"
     ]
    }
   ],
   "source": [
    "# Testing\n",
    "# print(f\"{internal([1,5,8,4])}\")"
   ]
  },
  {
   "cell_type": "markdown",
   "id": "126d5a19",
   "metadata": {},
   "source": [
    "https://www.youtube.com/watch?v=N3tRFayqVtk&t=1459s"
   ]
  },
  {
   "cell_type": "code",
   "execution_count": null,
   "id": "d65dac96",
   "metadata": {},
   "outputs": [],
   "source": []
  },
  {
   "cell_type": "code",
   "execution_count": null,
   "id": "ae8c3ba9",
   "metadata": {},
   "outputs": [],
   "source": []
  }
 ],
 "metadata": {
  "kernelspec": {
   "display_name": "Python 3 (ipykernel)",
   "language": "python",
   "name": "python3"
  },
  "language_info": {
   "codemirror_mode": {
    "name": "ipython",
    "version": 3
   },
   "file_extension": ".py",
   "mimetype": "text/x-python",
   "name": "python",
   "nbconvert_exporter": "python",
   "pygments_lexer": "ipython3",
   "version": "3.9.7"
  }
 },
 "nbformat": 4,
 "nbformat_minor": 5
}
